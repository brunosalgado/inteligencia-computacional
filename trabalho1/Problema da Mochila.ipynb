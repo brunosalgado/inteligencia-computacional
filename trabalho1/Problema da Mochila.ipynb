{
 "cells": [
  {
   "cell_type": "code",
   "execution_count": 1,
   "metadata": {},
   "outputs": [],
   "source": [
    "import random\n",
    "\n",
    "from deap import base\n",
    "from deap import creator\n",
    "from deap import tools\n",
    "from deap import algorithms\n",
    "\n",
    "import numpy"
   ]
  },
  {
   "cell_type": "code",
   "execution_count": 2,
   "metadata": {},
   "outputs": [],
   "source": [
    "TAM_CROMOSSOMO = 12\n",
    "TAM_POPULACAO = 200\n",
    "ITENS = [\n",
    "    [\"Bug Repelent\", 12, 2], \n",
    "    [\"Camp Stove\", 5, 4], \n",
    "    [\"Canteen (Full)\", 10, 7], \n",
    "    [\"Clothes\", 1, 5], \n",
    "    [\"Dried Food\", 50, 3],\n",
    "    [\"First Aid Kit\", 15, 3],\n",
    "    [\"FlashLight\", 6, 2],\n",
    "    [\"Novel\", 4, 2],\n",
    "    [\"Rain Gear\", 5, 2],\n",
    "    [\"Sleeping Bag\", 25, 3],\n",
    "    [\"Tent\", 20, 11],\n",
    "    [\"Water Filter\", 30, 1]\n",
    "]\n",
    "\n",
    "\n",
    "def fitness(cromossomo):\n",
    "    \"\"\"Funcao fitness para maximizar o cromossomo\n",
    "    Deve retornar uma tupla!!!\n",
    "    \"\"\"\n",
    "    peso = 0\n",
    "    valor = 0\n",
    "    for i in range(TAM_CROMOSSOMO):\n",
    "        if cromossomo[i] == 1:\n",
    "            peso += ITENS[i][2]\n",
    "            valor += ITENS[i][1]\n",
    "        \n",
    "    if peso > 20:\n",
    "        return -999,\n",
    "    \n",
    "    return valor,"
   ]
  },
  {
   "cell_type": "code",
   "execution_count": 3,
   "metadata": {},
   "outputs": [],
   "source": [
    "# Define a estrategia do fitness\n",
    "# - weights: define se o problema é de maximizacao (+1) ou minimizacao (-1)\n",
    "creator.create(\"FitnessMax\", base.Fitness, weights=(1.0,))\n",
    "\n",
    "# Define a estrutura do cromossomo\n",
    "creator.create(\"Individual\", list, fitness=creator.FitnessMax)"
   ]
  },
  {
   "cell_type": "code",
   "execution_count": 4,
   "metadata": {},
   "outputs": [],
   "source": [
    "# Define os componentes para configurar a populacao\n",
    "toolbox = base.Toolbox()\n",
    "\n",
    "# Gerador para os individuos\n",
    "toolbox.register(\"attr_bool\", random.randint, 0, 1)\n",
    "\n",
    "# Inicializador da populacao\n",
    "toolbox.register(\"individual\", tools.initRepeat, \n",
    "                 creator.Individual, \n",
    "                 toolbox.attr_bool, TAM_CROMOSSOMO)\n",
    "\n",
    "toolbox.register(\"population\", tools.initRepeat, list, toolbox.individual)"
   ]
  },
  {
   "cell_type": "code",
   "execution_count": 5,
   "metadata": {},
   "outputs": [],
   "source": [
    "# Define os operadores geneticos\n",
    "toolbox.register(\"evaluate\", fitness)\n",
    "\n",
    "toolbox.register(\"mate\", tools.cxTwoPoint)\n",
    "toolbox.register(\"mutate\", tools.mutFlipBit, indpb=0.05)\n",
    "toolbox.register(\"select\", tools.selRoulette)"
   ]
  },
  {
   "cell_type": "code",
   "execution_count": 6,
   "metadata": {},
   "outputs": [],
   "source": [
    "# Cria a populacao inicial\n",
    "populacao = toolbox.population(n=TAM_POPULACAO)"
   ]
  },
  {
   "cell_type": "code",
   "execution_count": 7,
   "metadata": {},
   "outputs": [
    {
     "name": "stdout",
     "output_type": "stream",
     "text": [
      "gen\tnevals\tavg    \tstd    \tmin \tmax\n",
      "0  \t200   \t-584.49\t524.232\t-999\t137\n",
      "1  \t200   \t125.265\t113.043\t-999\t137\n",
      "2  \t200   \t125.195\t113.028\t-999\t137\n",
      "3  \t200   \t97.19  \t208.765\t-999\t137\n",
      "4  \t200   \t114.025\t159.036\t-999\t137\n",
      "5  \t200   \t96.625 \t208.724\t-999\t138\n",
      "6  \t200   \t125.155\t113.11 \t-999\t138\n",
      "7  \t200   \t107.495\t177.313\t-999\t137\n",
      "8  \t200   \t107.825\t177.286\t-999\t137\n",
      "9  \t200   \t114.1  \t159.027\t-999\t142\n",
      "10 \t200   \t119.815\t138.083\t-999\t142\n",
      "11 \t200   \t125.03 \t113.078\t-999\t142\n",
      "12 \t200   \t125.54 \t113.024\t-999\t137\n",
      "13 \t200   \t125.065\t113.07 \t-999\t137\n",
      "14 \t200   \t119.235\t138.084\t-999\t137\n",
      "15 \t200   \t108.375\t177.346\t-999\t137\n",
      "16 \t200   \t119.71 \t138.069\t-999\t137\n",
      "17 \t200   \t113.84 \t159.008\t-999\t137\n",
      "18 \t200   \t102.54 \t193.755\t-999\t137\n",
      "19 \t200   \t107.525\t177.319\t-999\t138\n",
      "20 \t200   \t107.87 \t177.323\t-999\t137\n",
      "21 \t200   \t124.965\t113.061\t-999\t137\n",
      "22 \t200   \t113.76 \t159.044\t-999\t137\n",
      "23 \t200   \t108.115\t177.34 \t-999\t137\n",
      "24 \t200   \t124.525\t113.113\t-999\t137\n",
      "25 \t200   \t108.08 \t177.325\t-999\t137\n",
      "26 \t200   \t113.95 \t159.019\t-999\t138\n",
      "27 \t200   \t119.615\t138.07 \t-999\t138\n",
      "28 \t200   \t107.73 \t177.408\t-999\t137\n",
      "29 \t200   \t113.97 \t159.019\t-999\t137\n",
      "30 \t200   \t130.44 \t80.3134\t-999\t137\n",
      "31 \t200   \t130.67 \t80.3703\t-999\t137\n",
      "32 \t200   \t124.675\t113.071\t-999\t137\n",
      "33 \t200   \t107.995\t177.331\t-999\t137\n",
      "34 \t200   \t113.77 \t159.035\t-999\t137\n",
      "35 \t200   \t114.08 \t159.036\t-999\t137\n",
      "36 \t200   \t91.56  \t222.61 \t-999\t137\n",
      "37 \t200   \t113.62 \t158.986\t-999\t137\n",
      "38 \t200   \t108.54 \t177.349\t-999\t137\n",
      "39 \t200   \t118.73 \t138.086\t-999\t137\n",
      "40 \t200   \t107.44 \t177.313\t-999\t137\n",
      "41 \t200   \t125.015\t113.059\t-999\t137\n",
      "42 \t200   \t107.745\t177.307\t-999\t137\n",
      "43 \t200   \t102.64 \t193.77 \t-999\t137\n",
      "44 \t200   \t96.29  \t208.681\t-999\t137\n",
      "45 \t200   \t130.68 \t80.2181\t-999\t137\n",
      "46 \t200   \t130.645\t80.1933\t-999\t137\n",
      "47 \t200   \t119.14 \t138.072\t-999\t137\n",
      "48 \t200   \t113.58 \t159.011\t-999\t137\n",
      "49 \t200   \t108.39 \t177.333\t-999\t137\n",
      "50 \t200   \t113.38 \t159.041\t-999\t137\n",
      "51 \t200   \t118.995\t138.129\t-999\t137\n",
      "52 \t200   \t125.405\t113.036\t-999\t138\n",
      "53 \t200   \t125.31 \t113.021\t-999\t138\n",
      "54 \t200   \t124.875\t113.062\t-999\t138\n",
      "55 \t200   \t119.395\t138.079\t-999\t142\n",
      "56 \t200   \t113.535\t159.038\t-999\t138\n",
      "57 \t200   \t119.445\t138.087\t-999\t138\n",
      "58 \t200   \t85.78  \t235.478\t-999\t137\n",
      "59 \t200   \t118.825\t138.102\t-999\t137\n",
      "60 \t200   \t124.61 \t113.096\t-999\t137\n",
      "61 \t200   \t113.73 \t159.004\t-999\t142\n",
      "62 \t200   \t119.42 \t138.072\t-999\t142\n",
      "63 \t200   \t119.375\t138.128\t-999\t142\n",
      "64 \t200   \t102.71 \t193.76 \t-999\t137\n",
      "65 \t200   \t102.255\t193.716\t-999\t137\n",
      "66 \t200   \t102.415\t193.744\t-999\t137\n",
      "67 \t200   \t96.92  \t208.744\t-999\t137\n",
      "68 \t200   \t91.27  \t222.559\t-999\t137\n",
      "69 \t200   \t125.265\t113.061\t-999\t137\n",
      "70 \t200   \t113.95 \t159.012\t-999\t137\n",
      "71 \t200   \t119.155\t138.081\t-999\t142\n",
      "72 \t200   \t119.805\t138.069\t-999\t137\n",
      "73 \t200   \t125.53 \t113.022\t-999\t137\n",
      "74 \t200   \t113.2  \t159.009\t-999\t137\n",
      "75 \t200   \t84.82  \t235.337\t-999\t137\n",
      "76 \t200   \t119.505\t138.092\t-999\t137\n",
      "77 \t200   \t108.44 \t177.336\t-999\t137\n",
      "78 \t200   \t130.235\t80.2922\t-999\t137\n",
      "79 \t200   \t113.815\t159.008\t-999\t137\n",
      "80 \t200   \t90.675 \t222.528\t-999\t137\n",
      "81 \t200   \t130.285\t80.2869\t-999\t137\n",
      "82 \t200   \t107.84 \t177.318\t-999\t137\n",
      "83 \t200   \t96.125 \t208.665\t-999\t137\n",
      "84 \t200   \t124.57 \t113.223\t-999\t137\n",
      "85 \t200   \t113.565\t159.016\t-999\t137\n",
      "86 \t200   \t108.09 \t177.318\t-999\t137\n",
      "87 \t200   \t119.83 \t138.074\t-999\t137\n",
      "88 \t200   \t113.81 \t159.027\t-999\t137\n",
      "89 \t200   \t91.13  \t222.546\t-999\t137\n",
      "90 \t200   \t119.135\t138.054\t-999\t137\n",
      "91 \t200   \t113.015\t159.015\t-999\t137\n",
      "92 \t200   \t125.02 \t113.033\t-999\t137\n",
      "93 \t200   \t129.72 \t80.3828\t-999\t137\n",
      "94 \t200   \t119.475\t138.063\t-999\t137\n",
      "95 \t200   \t125.405\t113.029\t-999\t137\n",
      "96 \t200   \t113.96 \t159.023\t-999\t137\n",
      "97 \t200   \t112.99 \t159.031\t-999\t137\n",
      "98 \t200   \t101.93 \t193.717\t-999\t137\n",
      "99 \t200   \t102.12 \t193.722\t-999\t137\n",
      "100\t200   \t119.79 \t138.07 \t-999\t137\n"
     ]
    }
   ],
   "source": [
    "hof = tools.HallOfFame(10)\n",
    "stats = tools.Statistics(lambda ind: ind.fitness.values)\n",
    "stats.register(\"avg\", numpy.mean)\n",
    "stats.register(\"std\", numpy.std)\n",
    "stats.register(\"min\", numpy.min)\n",
    "stats.register(\"max\", numpy.max)\n",
    "    \n",
    "pop, log = algorithms.eaSimple(populacao, \n",
    "                               toolbox, \n",
    "                               cxpb=1, \n",
    "                               mutpb=0.1, \n",
    "                               ngen=100, \n",
    "                               stats=stats, \n",
    "                               halloffame=hof, \n",
    "                               verbose=True)"
   ]
  },
  {
   "cell_type": "code",
   "execution_count": 8,
   "metadata": {},
   "outputs": [
    {
     "name": "stdout",
     "output_type": "stream",
     "text": [
      "([1, 0, 1, 0, 1, 0, 1, 1, 0, 1, 0, 1], (137.0,))\n"
     ]
    }
   ],
   "source": [
    "melhor = sorted([(x, x.fitness.values) for x in pop], key=lambda x: x[1], reverse= True)\n",
    "\n",
    "print(melhor[0])"
   ]
  },
  {
   "cell_type": "code",
   "execution_count": null,
   "metadata": {},
   "outputs": [],
   "source": []
  }
 ],
 "metadata": {
  "kernelspec": {
   "display_name": "Python 3",
   "language": "python",
   "name": "python3"
  },
  "language_info": {
   "codemirror_mode": {
    "name": "ipython",
    "version": 3
   },
   "file_extension": ".py",
   "mimetype": "text/x-python",
   "name": "python",
   "nbconvert_exporter": "python",
   "pygments_lexer": "ipython3",
   "version": "3.7.3"
  }
 },
 "nbformat": 4,
 "nbformat_minor": 2
}
