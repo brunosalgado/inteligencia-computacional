{
 "cells": [
  {
   "cell_type": "markdown",
   "metadata": {
    "colab_type": "text",
    "id": "0Ir8iE7EaYyk"
   },
   "source": [
    "# Nuvem de Partículas (PSO)"
   ]
  },
  {
   "cell_type": "code",
   "execution_count": 1,
   "metadata": {
    "colab": {},
    "colab_type": "code",
    "id": "rdl5bVrlcFpM"
   },
   "outputs": [],
   "source": [
    "from math import e\n",
    "def funcao_objetivo(solucao: list) -> float:\n",
    "    \"\"\"\n",
    "    A funcao objetivo avalia uma solucao e retorna um valor\n",
    "    indicando se a solucao eh boa ou ruim.\n",
    "    :param solucao:\n",
    "    :return:\n",
    "    \"\"\"\n",
    "    p, m = solucao\n",
    "\n",
    "    if (p > 40 or m > 30 or p < 0 or m < 0 or (20 * p + 30 * m) > 1200):\n",
    "        return -999\n",
    "    \n",
    "    return 1000 * p + 1800 * m"
   ]
  },
  {
   "cell_type": "code",
   "execution_count": 2,
   "metadata": {
    "colab": {},
    "colab_type": "code",
    "id": "f3aHFFF1b2EZ"
   },
   "outputs": [],
   "source": [
    "from random import uniform, random\n",
    "\n",
    "LIMITES = [\n",
    "    (0, 40),  # Limite de x\n",
    "    (0, 30),  # Limite de y\n",
    "]\n",
    "\n",
    "VEL_MIN = -0.5\n",
    "VEL_MAX = 0.5\n",
    "\n",
    "def criar_solucao():\n",
    "    # Forma 1\n",
    "    # lista = []\n",
    "    # for i in range(2):\n",
    "    #    numero = uniform(LIMITES[i][0], LIMITES[i][1])\n",
    "    #    lista.append(numero)\n",
    "    # return lista\n",
    "\n",
    "    # Forma 2\n",
    "    # return [c for i in range(2) ]\n",
    "\n",
    "    # Forma 3\n",
    "    return [\n",
    "        uniform(LIMITES[0][0], LIMITES[0][1]),  # x\n",
    "        uniform(LIMITES[1][0], LIMITES[1][1]),  # y\n",
    "    ]"
   ]
  },
  {
   "cell_type": "code",
   "execution_count": 3,
   "metadata": {
    "colab": {},
    "colab_type": "code",
    "id": "P18N72iVZHwm"
   },
   "outputs": [],
   "source": [
    "def pso(tam_populacao: int, \n",
    "        max_iteracoes: int,\n",
    "        c1: float, \n",
    "        c2: float, \n",
    "        w: float) -> list:\n",
    "    \"\"\"\n",
    "    Executa o algoritmo do PSO.\n",
    "\n",
    "    :param tam_populacao:  numero de particulas\n",
    "    :param c1: coeficiente cognitivo (valor entre 1 e 2)\n",
    "    :param c2: coeficiente social (valor entre 1 e 2)\n",
    "    :param w: inercia (valor entre 0.4 e 0.9)\n",
    "    :return:\n",
    "    \"\"\"\n",
    "\n",
    "    # 1. Define a populacao inicial\n",
    "    populacao = [criar_solucao() for j in range(tam_populacao)]\n",
    "#     print(populacao)\n",
    "\n",
    "    # 2. Calcula o fitness da populacao\n",
    "    velocidade = [[0, 0] for i in range(tam_populacao)]\n",
    "    fitness = [funcao_objetivo(s) for s in populacao]\n",
    "\n",
    "    pbest = list(fitness)\n",
    "    gbest = sorted(fitness)[0]\n",
    "\n",
    "    for geracao in range(max_iteracoes):\n",
    "\n",
    "        # 3. Calcula o vetor de velocidade\n",
    "        for i in range(tam_populacao):\n",
    "            for j in range(2):\n",
    "                solucao = populacao[i]\n",
    "\n",
    "                # Calcula a nova velocidade\n",
    "                velocidade[i][j] = \\\n",
    "                    w * velocidade[i][j] + \\\n",
    "                    c1 * random() * (pbest[i] - solucao[j]) + \\\n",
    "                    c2 * random() * (gbest - solucao[j])\n",
    "\n",
    "                # Atualiza o deslocamento da particula\n",
    "                if velocidade[i][j] < VEL_MIN:\n",
    "                    velocidade[i][j] = VEL_MIN\n",
    "                if velocidade[i][j] > VEL_MAX:\n",
    "                    velocidade[i][j] = VEL_MAX\n",
    "                solucao[j] += velocidade[i][j]\n",
    "                solucao[j] = int(solucao[j])\n",
    "\n",
    "#         print(populacao)\n",
    "\n",
    "        # Calcula o fitness e atualiza o pbest/gbest\n",
    "        fitness = [funcao_objetivo(s) for s in populacao]\n",
    "\n",
    "        for i in range(tam_populacao):\n",
    "            pbest[i] = fitness[i] if fitness[i] > pbest[i] else pbest[i]\n",
    "\n",
    "        melhor = sorted(fitness, reverse=True)[0]\n",
    "        gbest = melhor if melhor > gbest else gbest\n",
    "\n",
    "#         print(f'{geracao}: {gbest}')\n",
    "\n",
    "    # Prepara a melhor solucao para retornar\n",
    "    melhor_fitness = funcao_objetivo(populacao[0])\n",
    "    melhor_solucao = populacao[0]\n",
    "    for solucao in populacao:\n",
    "        f = funcao_objetivo(solucao)\n",
    "        if f > melhor_fitness:\n",
    "            melhor_solucao = solucao\n",
    "\n",
    "    return melhor_solucao "
   ]
  },
  {
   "cell_type": "code",
   "execution_count": 4,
   "metadata": {
    "colab": {
     "base_uri": "https://localhost:8080/",
     "height": 1000
    },
    "colab_type": "code",
    "id": "xOg-ZZALhMCH",
    "outputId": "1dc41e73-01b4-4746-cf50-e2b9703184e7"
   },
   "outputs": [
    {
     "name": "stdout",
     "output_type": "stream",
     "text": [
      "Solucao: [38, 13]\n"
     ]
    }
   ],
   "source": [
    " solucao = pso(\n",
    "        tam_populacao=800,\n",
    "        max_iteracoes=50,\n",
    "        c1=2,\n",
    "        c2=2,\n",
    "        w=0.4,\n",
    "    )\n",
    "    \n",
    "print(f'Solucao: {solucao}')\n"
   ]
  },
  {
   "cell_type": "code",
   "execution_count": null,
   "metadata": {},
   "outputs": [],
   "source": []
  }
 ],
 "metadata": {
  "colab": {
   "name": "pso.ipynb",
   "provenance": [],
   "version": "0.3.2"
  },
  "kernelspec": {
   "display_name": "Python 3",
   "language": "python",
   "name": "python3"
  },
  "language_info": {
   "codemirror_mode": {
    "name": "ipython",
    "version": 3
   },
   "file_extension": ".py",
   "mimetype": "text/x-python",
   "name": "python",
   "nbconvert_exporter": "python",
   "pygments_lexer": "ipython3",
   "version": "3.7.3"
  }
 },
 "nbformat": 4,
 "nbformat_minor": 1
}
