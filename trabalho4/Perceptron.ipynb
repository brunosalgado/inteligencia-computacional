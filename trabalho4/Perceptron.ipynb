{
 "cells": [
  {
   "cell_type": "markdown",
   "metadata": {},
   "source": [
    "## Perceptron\n",
    "---"
   ]
  },
  {
   "cell_type": "markdown",
   "metadata": {},
   "source": [
    "#### Import"
   ]
  },
  {
   "cell_type": "code",
   "execution_count": 1,
   "metadata": {},
   "outputs": [],
   "source": [
    "import numpy as np"
   ]
  },
  {
   "cell_type": "markdown",
   "metadata": {},
   "source": [
    "#### Class Perceptron"
   ]
  },
  {
   "cell_type": "code",
   "execution_count": 2,
   "metadata": {},
   "outputs": [],
   "source": [
    "class Perceptron(object):\n",
    "\n",
    "    def __init__(self, num_entradas, lim_geracoes=100, tax_aprendizado=0.01):\n",
    "        self.lim_geracoes = lim_geracoes\n",
    "        self.tax_aprendizado = tax_aprendizado\n",
    "        self.pesos = np.zeros(num_entradas + 1)\n",
    "           \n",
    "    def predict(self, entradas):\n",
    "        somatorio = np.dot(entradas, self.pesos[1:]) + self.pesos[0]\n",
    "        if somatorio > 0:\n",
    "          ativacao = 1\n",
    "        else:\n",
    "          ativacao = 0            \n",
    "        return ativacao\n",
    "\n",
    "    def train(self, treino, labels):\n",
    "        for _ in range(self.lim_geracoes):\n",
    "            for entrada, label in zip(treino, labels):\n",
    "                prediction = self.predict(entrada)\n",
    "                self.pesos[1:] += self.tax_aprendizado * (label - prediction) * entrada\n",
    "                self.pesos[0] += self.tax_aprendizado * (label - prediction)"
   ]
  },
  {
   "cell_type": "markdown",
   "metadata": {},
   "source": [
    "#### Treino"
   ]
  },
  {
   "cell_type": "code",
   "execution_count": 3,
   "metadata": {},
   "outputs": [],
   "source": [
    "treino = []\n",
    "treino.append(np.array([1, 1]))\n",
    "treino.append(np.array([1, 0]))\n",
    "treino.append(np.array([0, 1]))\n",
    "treino.append(np.array([0, 0]))\n",
    "\n",
    "labels = np.array([1, 0, 1, 0])\n",
    "\n",
    "perceptron = Perceptron(2)\n",
    "perceptron.train(treino, labels)"
   ]
  },
  {
   "cell_type": "markdown",
   "metadata": {},
   "source": [
    "#### Teste"
   ]
  },
  {
   "cell_type": "code",
   "execution_count": 4,
   "metadata": {},
   "outputs": [
    {
     "name": "stdout",
     "output_type": "stream",
     "text": [
      "1\n",
      "0\n",
      "1\n",
      "0\n"
     ]
    }
   ],
   "source": [
    "teste = []\n",
    "teste.append(np.array([1, 1]))\n",
    "teste.append(np.array([1, 0]))\n",
    "teste.append(np.array([0, 1]))\n",
    "teste.append(np.array([0, 0]))\n",
    "\n",
    "for input in teste:\n",
    "  print(perceptron.predict(input))"
   ]
  }
 ],
 "metadata": {
  "kernelspec": {
   "display_name": "Python 3",
   "language": "python",
   "name": "python3"
  },
  "language_info": {
   "codemirror_mode": {
    "name": "ipython",
    "version": 3
   },
   "file_extension": ".py",
   "mimetype": "text/x-python",
   "name": "python",
   "nbconvert_exporter": "python",
   "pygments_lexer": "ipython3",
   "version": "3.7.3"
  }
 },
 "nbformat": 4,
 "nbformat_minor": 2
}
